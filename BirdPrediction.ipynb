{
 "cells": [
  {
   "cell_type": "markdown",
   "metadata": {},
   "source": [
    "### Loading our classifer"
   ]
  },
  {
   "cell_type": "code",
   "execution_count": 1,
   "metadata": {},
   "outputs": [
    {
     "name": "stderr",
     "output_type": "stream",
     "text": [
      "Using TensorFlow backend.\n"
     ]
    }
   ],
   "source": [
    "from keras.models import load_model\n",
    "\n",
    "classifier = load_model('birds.h5')"
   ]
  },
  {
   "cell_type": "markdown",
   "metadata": {},
   "source": [
    "### Testing our classifer on some test images"
   ]
  },
  {
   "cell_type": "code",
   "execution_count": 3,
   "metadata": {},
   "outputs": [
    {
     "name": "stdout",
     "output_type": "stream",
     "text": [
      "Class - SAND MARTIN\n",
      "Class - HAWAIIAN GOOSE\n",
      "Class - RAINBOW LORIKEET\n",
      "Class - EASTERN BLUEBIRD\n",
      "Class - TAIWAN MAGPIE\n",
      "Class - LARK BUNTING\n",
      "Class - SAND MARTIN\n",
      "Class - BALD EAGLE\n",
      "Class - MALACHITE KINGFISHER\n",
      "Class - LARK BUNTING\n",
      "Class - NICOBAR PIGEON\n",
      "Class - IMPERIAL SHAQ\n",
      "Class - YELLOW HEADED BLACKBIRD\n",
      "Class - IMPERIAL SHAQ\n",
      "Class - FLAME TANAGER\n",
      "Class - BALD EAGLE\n",
      "Class - HAWAIIAN GOOSE\n",
      "Class - WATTLED CURASSOW\n",
      "Class - IMPERIAL SHAQ\n",
      "Class - RAINBOW LORIKEET\n"
     ]
    }
   ],
   "source": [
    "import os\n",
    "import cv2\n",
    "import numpy as np\n",
    "from os import listdir\n",
    "from os.path import isfile, join\n",
    "\n",
    "birds_dict = {\"[0]\": \"AFRICAN FIREFINCH\", \n",
    "                      \"[1]\": \"BALD EAGLE\",\n",
    "                      \"[2]\": \"CACTUS WREN\",\n",
    "                      \"[3]\": \"DARK EYED JUNCO\",\n",
    "                      \"[4]\": \"EASTERN BLUEBIRD\",\n",
    "                      \"[5]\": \"FLAME TANAGER\",\n",
    "                      \"[6]\": \"GILA WOODPECKER\",\n",
    "                      \"[7]\": \"HAWAIIAN GOOSE\",\n",
    "                      \"[8]\": \"IMPERIAL SHAQ\",\n",
    "                      \"[9]\": \"JABIRU\",\n",
    "                      \"[10]\": \"KILLDEAR\",\n",
    "                      \"[11]\": \"LARK BUNTING\",\n",
    "                      \"[12]\": \"MALACHITE KINGFISHER\",\n",
    "                      \"[13]\": \"NICOBAR PIGEON\",\n",
    "                      \"[14]\": \"OCELLATED TURKEY\",\n",
    "                      \"[15]\": \"PAINTED BUNTIG\",\n",
    "                      \"[16]\": \"QUETZAL\",\n",
    "                      \"[17]\": \"RAINBOW LORIKEET\",\n",
    "                      \"[18]\": \"SAND MARTIN\",\n",
    "                      \"[19]\": \"TAIWAN MAGPIE\",\n",
    "                      \"[20]\": \"VARIED THRUSH\",\n",
    "                      \"[21]\": \"WATTLED CURASSOW\",\n",
    "                      \"[22]\": \"YELLOW HEADED BLACKBIRD\",}\n",
    "\n",
    "birds_dict_n = {\"AFRICAN FIREFINCH\": \"AFRICAN FIREFINCH\", \n",
    "                      \"BALD EAGLE\": \"BALD EAGLE\",\n",
    "                      \"CACTUS WREN\": \"CACTUS WREN\",\n",
    "                      \"DARK EYED JUNCO\": \"DARK EYED JUNCO\",\n",
    "                      \"EASTERN BLUEBIRD\": \"EASTERN BLUEBIRD\",\n",
    "                      \"FLAME TANAGER\": \"FLAME TANAGER\",\n",
    "                      \"GILA WOODPECKER\": \"GILA WOODPECKER\",\n",
    "                      \"HAWAIIAN GOOSE\": \"HAWAIIAN GOOSE\",\n",
    "                      \"IMPERIAL SHAQ\": \"IMPERIAL SHAQ\",\n",
    "                      \"JABIRU\": \"JABIRU\",\n",
    "                      \"KILLDEAR\": \"KILLDEAR\",\n",
    "                      \"LARK BUNTING\": \"LARK BUNTING\",\n",
    "                      \"MALACHITE KINGFISHER\": \"MALACHITE KINGFISHER\",\n",
    "                      \"NICOBAR PIGEON\": \"NICOBAR PIGEON\",\n",
    "                      \"OCELLATED TURKEY\": \"OCELLATED TURKEY\",\n",
    "                      \"PAINTED BUNTIG\": \"PAINTED BUNTIG\",\n",
    "                      \"QUETZAL\": \"QUETZAL\",\n",
    "                      \"RAINBOW LORIKEET\": \"RAINBOW LORIKEET\",\n",
    "                      \"SAND MARTIN\": \"SAND MARTIN\",\n",
    "                      \"TAIWAN MAGPIE\": \"TAIWAN MAGPIE\",\n",
    "                      \"VARIED THRUSH\": \"VARIED THRUSH\",\n",
    "                      \"WATTLED CURASSOW\": \"WATTLED CURASSOW\",\n",
    "                      \"YELLOW HEADED BLACKBIRD\": \"YELLOW HEADED BLACKBIRD\",}\n",
    "\n",
    "\n",
    "def draw_test(name, pred, im):\n",
    "    birds = birds_dict[str(pred)]\n",
    "    BLACK = [0,0,0]\n",
    "    expanded_image = cv2.copyMakeBorder(im, 80, 0, 0, 100 ,cv2.BORDER_CONSTANT,value=BLACK)\n",
    "    cv2.putText(expanded_image, birds, (20, 60) , cv2.FONT_HERSHEY_SIMPLEX,1, (0,0,255), 2)\n",
    "    cv2.imshow(name, expanded_image)\n",
    "\n",
    "def getRandomImage(path):\n",
    "    \"\"\"function loads a random images from a random folder in our test path \"\"\"\n",
    "    folders = list(filter(lambda x: os.path.isdir(os.path.join(path, x)), os.listdir(path)))\n",
    "    random_directory = np.random.randint(0,len(folders))\n",
    "    path_class = folders[random_directory]\n",
    "    print(\"Class - \" + birds_dict_n[str(path_class)])\n",
    "    file_path = path + path_class\n",
    "    file_names = [f for f in listdir(file_path) if isfile(join(file_path, f))]\n",
    "    random_file_index = np.random.randint(0,len(file_names))\n",
    "    image_name = file_names[random_file_index]\n",
    "    return cv2.imread(file_path+\"/\"+image_name)    \n",
    "\n",
    "for i in range(0,20):\n",
    "    input_im = getRandomImage(\"./birds/validation/\")\n",
    "    input_original = input_im.copy()\n",
    "    input_original = cv2.resize(input_original, None, fx=0.5, fy=0.5, interpolation = cv2.INTER_LINEAR)\n",
    "    \n",
    "    input_im = cv2.resize(input_im, (224, 224), interpolation = cv2.INTER_LINEAR)\n",
    "    input_im = input_im / 255.\n",
    "    input_im = input_im.reshape(1,224,224,3) \n",
    "    \n",
    "    # Get Prediction\n",
    "    res = np.argmax(classifier.predict(input_im, 1, verbose = 0), axis=1)\n",
    "\n",
    "    # Show image with predicted class\n",
    "    draw_test(\"Prediction\", res, input_original) \n",
    "    cv2.waitKey(0)\n",
    "\n",
    "cv2.destroyAllWindows()"
   ]
  },
  {
   "cell_type": "code",
   "execution_count": null,
   "metadata": {},
   "outputs": [],
   "source": []
  },
  {
   "cell_type": "code",
   "execution_count": null,
   "metadata": {},
   "outputs": [],
   "source": []
  }
 ],
 "metadata": {
  "kernelspec": {
   "display_name": "Python 3",
   "language": "python",
   "name": "python3"
  },
  "language_info": {
   "codemirror_mode": {
    "name": "ipython",
    "version": 3
   },
   "file_extension": ".py",
   "mimetype": "text/x-python",
   "name": "python",
   "nbconvert_exporter": "python",
   "pygments_lexer": "ipython3",
   "version": "3.7.6"
  }
 },
 "nbformat": 4,
 "nbformat_minor": 4
}
